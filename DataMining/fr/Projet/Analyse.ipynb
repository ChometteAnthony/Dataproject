{
 "cells": [
  {
   "cell_type": "code",
   "execution_count": null,
   "metadata": {},
   "outputs": [],
   "source": [
    "import os\n",
    "from PIL import Image\n",
    "\n",
    "# Définir le répertoire contenant les images\n",
    "image_dir = 'images'\n",
    "\n",
    "# Demander à l'utilisateur de sélectionner des images\n",
    "selected_images = []\n",
    "while True:\n",
    "    image_name = input('Entrez le nom de l\\'image que vous souhaitez sélectionner (ou appuyez sur Entrée pour terminer) : ')\n",
    "    if not image_name:\n",
    "        break\n",
    "    image_path = os.path.join(image_dir, image_name)\n",
    "    if os.path.exists(image_path):\n",
    "        # Ouvrir l'image avec la bibliothèque PIL\n",
    "        image = Image.open(image_path)\n",
    "        # Ajouter l'image sélectionnée à la liste\n",
    "        selected_images.append(image)\n",
    "    else:\n",
    "        print('Le fichier spécifié n\\'existe pas.')\n",
    "\n",
    "# Demander à l'utilisateur d'ajouter des balises aux images sélectionnées\n",
    "for image in selected_images:\n",
    "    tags = input('Entrez des balises pour l\\'image {} : '.format(image.filename))\n",
    "    # Stocker les balises dans une base de données ou dans un fichier texte\n"
   ]
  }
 ],
 "metadata": {
  "language_info": {
   "name": "python"
  },
  "orig_nbformat": 4
 },
 "nbformat": 4,
 "nbformat_minor": 2
}
