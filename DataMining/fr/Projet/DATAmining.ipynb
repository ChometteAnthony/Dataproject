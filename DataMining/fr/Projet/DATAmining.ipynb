{
 "cells": [
  {
   "cell_type": "code",
   "execution_count": 1,
   "metadata": {},
   "outputs": [
    {
     "ename": "FileExistsError",
     "evalue": "[Errno 17] File exists: 'images'",
     "output_type": "error",
     "traceback": [
      "\u001b[0;31m---------------------------------------------------------------------------\u001b[0m",
      "\u001b[0;31mFileExistsError\u001b[0m                           Traceback (most recent call last)",
      "\u001b[0;32m/tmp/ipykernel_29310/3308802242.py\u001b[0m in \u001b[0;36m<module>\u001b[0;34m\u001b[0m\n\u001b[1;32m      4\u001b[0m \u001b[0;34m\u001b[0m\u001b[0m\n\u001b[1;32m      5\u001b[0m \u001b[0;31m# Créer un dossier appelé \"images\" (s'il n'existe pas déjà)\u001b[0m\u001b[0;34m\u001b[0m\u001b[0;34m\u001b[0m\u001b[0;34m\u001b[0m\u001b[0m\n\u001b[0;32m----> 6\u001b[0;31m \u001b[0mos\u001b[0m\u001b[0;34m.\u001b[0m\u001b[0mmkdir\u001b[0m\u001b[0;34m(\u001b[0m\u001b[0;34m\"images\"\u001b[0m\u001b[0;34m)\u001b[0m\u001b[0;34m\u001b[0m\u001b[0;34m\u001b[0m\u001b[0m\n\u001b[0m\u001b[1;32m      7\u001b[0m \u001b[0;34m\u001b[0m\u001b[0m\n\u001b[1;32m      8\u001b[0m \u001b[0;31m# Récupérer la liste des fichiers dans le dossier \"input_images\"\u001b[0m\u001b[0;34m\u001b[0m\u001b[0;34m\u001b[0m\u001b[0;34m\u001b[0m\u001b[0m\n",
      "\u001b[0;31mFileExistsError\u001b[0m: [Errno 17] File exists: 'images'"
     ]
    }
   ],
   "source": [
    "import json\n",
    "import os\n",
    "from PIL import Image\n",
    "\n",
    "# Créer un dossier appelé \"images\" (s'il n'existe pas déjà)\n",
    "os.mkdir(\"images\")\n",
    "\n",
    "# Récupérer la liste des fichiers dans le dossier \"input_images\"\n",
    "image_files = os.listdir(\"input_images\")\n",
    "\n",
    "# Parcourir chaque fichier dans la liste\n",
    "for file in image_files:\n",
    "    # Vérifier si le fichier est une image\n",
    "    if file.endswith((\".jpg\", \".png\", \".jpeg\")):\n",
    "        # Ouvrir l'image avec le module PIL\n",
    "        im = Image.open(f'input_images/{file}')\n",
    "\n",
    "        # Enregistrer les métadonnées de l'image dans un dictionnaire\n",
    "        metadata = {\n",
    "            'size': im.size,\n",
    "            'format': im.format,\n",
    "            'orientation': im.mode,\n",
    "            'date_creation': '2023-04-04',  # mettre ici la date de création réelle de l'image\n",
    "            # mettre ici le modèle de l'appareil photo réel\n",
    "            'model_appareil': 'Canon EOS 5D Mark IV'\n",
    "        }\n",
    "\n",
    "        # Enregistrer les métadonnées dans un fichier JSON nommé d'après le nom du fichier\n",
    "        with open(f'metadata_{file}.json', 'w') as f:\n",
    "            json.dump([metadata], f)\n",
    "\n",
    "        # Enregistrer l'image dans le dossier \"images\"\n",
    "        im.save(f'images/{file}')\n"
   ]
  }
 ],
 "metadata": {
  "kernelspec": {
   "display_name": "Python 3.7.16 64-bit",
   "language": "python",
   "name": "python3"
  },
  "language_info": {
   "codemirror_mode": {
    "name": "ipython",
    "version": 3
   },
   "file_extension": ".py",
   "mimetype": "text/x-python",
   "name": "python",
   "nbconvert_exporter": "python",
   "pygments_lexer": "ipython3",
   "version": "3.7.16"
  },
  "orig_nbformat": 4,
  "vscode": {
   "interpreter": {
    "hash": "fd69f43f58546b570e94fd7eba7b65e6bcc7a5bbc4eab0408017d18902915d69"
   }
  }
 },
 "nbformat": 4,
 "nbformat_minor": 2
}
