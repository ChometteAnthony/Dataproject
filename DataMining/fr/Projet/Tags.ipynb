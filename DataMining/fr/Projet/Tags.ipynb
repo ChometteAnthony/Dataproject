{
 "cells": [
  {
   "cell_type": "code",
   "execution_count": 1,
   "metadata": {},
   "outputs": [
    {
     "ename": "NameError",
     "evalue": "name 'ColorThief' is not defined",
     "output_type": "error",
     "traceback": [
      "\u001b[0;31m---------------------------------------------------------------------------\u001b[0m",
      "\u001b[0;31mNameError\u001b[0m                                 Traceback (most recent call last)",
      "\u001b[0;32m/tmp/ipykernel_29539/3638711365.py\u001b[0m in \u001b[0;36m<module>\u001b[0;34m\u001b[0m\n\u001b[1;32m     10\u001b[0m \u001b[0;34m\u001b[0m\u001b[0m\n\u001b[1;32m     11\u001b[0m         \u001b[0;31m# Ouvrir l'image avec la bibliothèque ColorThief\u001b[0m\u001b[0;34m\u001b[0m\u001b[0;34m\u001b[0m\u001b[0;34m\u001b[0m\u001b[0m\n\u001b[0;32m---> 12\u001b[0;31m         \u001b[0mcolor_thief\u001b[0m \u001b[0;34m=\u001b[0m \u001b[0mColorThief\u001b[0m\u001b[0;34m(\u001b[0m\u001b[0mos\u001b[0m\u001b[0;34m.\u001b[0m\u001b[0mpath\u001b[0m\u001b[0;34m.\u001b[0m\u001b[0mjoin\u001b[0m\u001b[0;34m(\u001b[0m\u001b[0;34m\"images\"\u001b[0m\u001b[0;34m,\u001b[0m \u001b[0mfilename\u001b[0m\u001b[0;34m)\u001b[0m\u001b[0;34m)\u001b[0m\u001b[0;34m\u001b[0m\u001b[0;34m\u001b[0m\u001b[0m\n\u001b[0m\u001b[1;32m     13\u001b[0m \u001b[0;34m\u001b[0m\u001b[0m\n\u001b[1;32m     14\u001b[0m         \u001b[0;31m# Extraire la couleur prédominante de l'image\u001b[0m\u001b[0;34m\u001b[0m\u001b[0;34m\u001b[0m\u001b[0;34m\u001b[0m\u001b[0m\n",
      "\u001b[0;31mNameError\u001b[0m: name 'ColorThief' is not defined"
     ]
    }
   ],
   "source": [
    "import os\n",
    "import json\n",
    "\n",
    "# Définir une liste de tags prédéfinis\n",
    "tags = [\"#chat\", \"#fleur\", \"#montagne\", \"#paysage\", \"#nourriture\", \"#ville\", \"#voyage\"]\n",
    "\n",
    "# Parcourir chaque image dans le dossier \"images\"\n",
    "for filename in os.listdir(\"images\"):\n",
    "    if filename.endswith(\".jpg\") or filename.endswith(\".png\") or filename.endswith(\".jpeg\"):\n",
    "\n",
    "        # Ouvrir l'image avec la bibliothèque ColorThief\n",
    "        color_thief = ColorThief(os.path.join(\"images\", filename))\n",
    "\n",
    "        # Extraire la couleur prédominante de l'image\n",
    "        dominant_color = color_thief.get_color(quality=1)\n",
    "\n",
    "        # Enregistrer l'information dans un dictionnaire\n",
    "        metadata = {\n",
    "            \"dominant_color\": dominant_color\n",
    "        }\n",
    "\n",
    "        # Enregistrer les métadonnées dans un fichier JSON nommé d'après le nom de fichier de l'image\n",
    "        with open(f\"metadata_{os.path.splitext(filename)[0]}.json\", \"w\") as f:\n",
    "            json.dump(metadata, f)\n",
    "\n",
    "        # Demander à l'utilisateur de taguer l'image en lui présentant la liste de tags prédéfinis\n",
    "        print(f\"Veuillez taguer l'image {filename} en choisissant parmi les tags suivants :\")\n",
    "        print(\", \".join(tags))\n",
    "        user_tags = input().split()\n",
    "\n",
    "        # Enregistrer les tags dans un dictionnaire\n",
    "        metadata = {\n",
    "            \"tags\": user_tags\n",
    "        }\n",
    "\n",
    "        # Enregistrer les métadonnées dans un fichier JSON nommé d'après le nom de fichier de l'image\n",
    "        with open(f\"metadata_{os.path.splitext(filename)[0]}.json\", \"w\") as f:\n",
    "            json.dump(metadata, f)\n"
   ]
  }
 ],
 "metadata": {
  "kernelspec": {
   "display_name": "Python 3.7.16 64-bit",
   "language": "python",
   "name": "python3"
  },
  "language_info": {
   "codemirror_mode": {
    "name": "ipython",
    "version": 3
   },
   "file_extension": ".py",
   "mimetype": "text/x-python",
   "name": "python",
   "nbconvert_exporter": "python",
   "pygments_lexer": "ipython3",
   "version": "3.7.16"
  },
  "orig_nbformat": 4,
  "vscode": {
   "interpreter": {
    "hash": "fd69f43f58546b570e94fd7eba7b65e6bcc7a5bbc4eab0408017d18902915d69"
   }
  }
 },
 "nbformat": 4,
 "nbformat_minor": 2
}
