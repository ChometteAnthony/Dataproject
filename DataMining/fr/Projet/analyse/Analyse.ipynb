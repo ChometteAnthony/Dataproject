{
 "cells": [
  {
   "cell_type": "code",
   "execution_count": null,
   "metadata": {},
   "outputs": [],
   "source": [
    "from pyspark.sql import SparkSession\n",
    "\n",
    "# Initialiser une session Spark\n",
    "spark = SparkSession.builder.appName(\"ImageSelection\").getOrCreate()\n",
    "\n",
    "# Définir le répertoire contenant les images\n",
    "image_dir = 'images'\n",
    "\n",
    "# Créer un RDD à partir de la liste des noms d'images\n",
    "image_names_rdd = spark.sparkContext.parallelize(selected_images)\n",
    "\n",
    "# Filtrer les noms d'images existants\n",
    "existing_images_rdd = image_names_rdd.filter(lambda image_name: os.path.exists(os.path.join(image_dir, image_name)))\n",
    "\n",
    "# Mapper pour ouvrir les images avec la bibliothèque PIL\n",
    "def open_image(image_name):\n",
    "    image_path = os.path.join(image_dir, image_name)\n",
    "    image = Image.open(image_path)\n",
    "    return (image_name, image)\n",
    "\n",
    "opened_images_rdd = existing_images_rdd.map(open_image)\n",
    "\n",
    "# Reducer pour demander les balises aux utilisateurs\n",
    "def add_tags(image):\n",
    "    tags = input('Entrez des balises pour l\\'image {} : '.format(image[0]))\n",
    "    return (image[0], image[1], tags)\n",
    "\n",
    "images_with_tags_rdd = opened_images_rdd.map(add_tags)\n",
    "\n",
    "# Collecter les résultats en tant que liste\n",
    "selected_images_with_tags = images_with_tags_rdd.collect()\n",
    "\n",
    "# Fermer la session Spark\n",
    "spark.stop()\n",
    "\n",
    "# Afficher les images sélectionnées avec les balises\n",
    "for image in selected_images_with_tags:\n",
    "    print(\"Image :\", image[0])\n",
    "    print(\"Tags :\", image[2])\n",
    "    print()\n"
   ]
  }
 ],
 "metadata": {
  "kernelspec": {
   "display_name": "Python 3.7.16 64-bit",
   "language": "python",
   "name": "python3"
  },
  "language_info": {
   "name": "python",
   "version": "3.7.16"
  },
  "orig_nbformat": 4,
  "vscode": {
   "interpreter": {
    "hash": "fd69f43f58546b570e94fd7eba7b65e6bcc7a5bbc4eab0408017d18902915d69"
   }
  }
 },
 "nbformat": 4,
 "nbformat_minor": 2
}
