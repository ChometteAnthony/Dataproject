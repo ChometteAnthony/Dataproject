{
 "cells": [
  {
   "cell_type": "code",
   "execution_count": 1,
   "metadata": {},
   "outputs": [
    {
     "ename": "NameError",
     "evalue": "name 'ColorThief' is not defined",
     "output_type": "error",
     "traceback": [
      "\u001b[0;31m---------------------------------------------------------------------------\u001b[0m",
      "\u001b[0;31mNameError\u001b[0m                                 Traceback (most recent call last)",
      "\u001b[0;32m/tmp/ipykernel_29539/3638711365.py\u001b[0m in \u001b[0;36m<module>\u001b[0;34m\u001b[0m\n\u001b[1;32m     10\u001b[0m \u001b[0;34m\u001b[0m\u001b[0m\n\u001b[1;32m     11\u001b[0m         \u001b[0;31m# Ouvrir l'image avec la bibliothèque ColorThief\u001b[0m\u001b[0;34m\u001b[0m\u001b[0;34m\u001b[0m\u001b[0;34m\u001b[0m\u001b[0m\n\u001b[0;32m---> 12\u001b[0;31m         \u001b[0mcolor_thief\u001b[0m \u001b[0;34m=\u001b[0m \u001b[0mColorThief\u001b[0m\u001b[0;34m(\u001b[0m\u001b[0mos\u001b[0m\u001b[0;34m.\u001b[0m\u001b[0mpath\u001b[0m\u001b[0;34m.\u001b[0m\u001b[0mjoin\u001b[0m\u001b[0;34m(\u001b[0m\u001b[0;34m\"images\"\u001b[0m\u001b[0;34m,\u001b[0m \u001b[0mfilename\u001b[0m\u001b[0;34m)\u001b[0m\u001b[0;34m)\u001b[0m\u001b[0;34m\u001b[0m\u001b[0;34m\u001b[0m\u001b[0m\n\u001b[0m\u001b[1;32m     13\u001b[0m \u001b[0;34m\u001b[0m\u001b[0m\n\u001b[1;32m     14\u001b[0m         \u001b[0;31m# Extraire la couleur prédominante de l'image\u001b[0m\u001b[0;34m\u001b[0m\u001b[0;34m\u001b[0m\u001b[0;34m\u001b[0m\u001b[0m\n",
      "\u001b[0;31mNameError\u001b[0m: name 'ColorThief' is not defined"
     ]
    }
   ],
   "source": [
    "from pyspark.sql import SparkSession\n",
    "import json\n",
    "\n",
    "# Initialiser une session Spark\n",
    "spark = SparkSession.builder.appName(\"ImageMetadata\").getOrCreate()\n",
    "\n",
    "# Définir le répertoire contenant les images\n",
    "image_dir = 'images'\n",
    "\n",
    "# Créer un RDD à partir de la liste des noms de fichiers d'images\n",
    "image_files_rdd = spark.sparkContext.parallelize(os.listdir(image_dir))\n",
    "\n",
    "# Filtrer les noms de fichiers d'images valides\n",
    "valid_image_files_rdd = image_files_rdd.filter(lambda filename: filename.endswith((\".jpg\", \".png\", \".jpeg\")))\n",
    "\n",
    "# Mapper pour ouvrir les images avec la bibliothèque ColorThief, extraire la couleur prédominante et enregistrer les métadonnées\n",
    "def extract_image_metadata(filename):\n",
    "    from colorthief import ColorThief\n",
    "\n",
    "    image_path = os.path.join(image_dir, filename)\n",
    "    color_thief = ColorThief(image_path)\n",
    "    dominant_color = color_thief.get_color(quality=1)\n",
    "\n",
    "    metadata = {\n",
    "        \"dominant_color\": dominant_color\n",
    "    }\n",
    "\n",
    "    metadata_filename = f\"metadata_{os.path.splitext(filename)[0]}.json\"\n",
    "    with open(metadata_filename, \"w\") as f:\n",
    "        json.dump(metadata, f)\n",
    "\n",
    "    return (filename, metadata_filename)\n",
    "\n",
    "metadata_rdd = valid_image_files_rdd.map(extract_image_metadata)\n",
    "\n",
    "# Reducer pour demander à l'utilisateur de taguer les images et enregistrer les métadonnées\n",
    "def tag_images(filename_metadata):\n",
    "    filename, metadata_filename = filename_metadata\n",
    "\n",
    "    with open(metadata_filename, \"r\") as f:\n",
    "        metadata = json.load(f)\n",
    "\n",
    "    print(f\"Veuillez taguer l'image {filename} en choisissant parmi les tags suivants :\")\n",
    "    print(\", \".join(tags))\n",
    "    user_tags = input().split()\n",
    "\n",
    "    metadata[\"tags\"] = user_tags\n",
    "\n",
    "    with open(metadata_filename, \"w\") as f:\n",
    "        json.dump(metadata, f)\n",
    "\n",
    "# Appliquer le reducer pour demander à l'utilisateur de taguer les images et enregistrer les métadonnées\n",
    "metadata_rdd.foreach(tag_images)\n",
    "\n",
    "# Fermer la session Spark\n",
    "spark.stop()\n"
   ]
  }
 ],
 "metadata": {
  "kernelspec": {
   "display_name": "Python 3.7.16 64-bit",
   "language": "python",
   "name": "python3"
  },
  "language_info": {
   "codemirror_mode": {
    "name": "ipython",
    "version": 3
   },
   "file_extension": ".py",
   "mimetype": "text/x-python",
   "name": "python",
   "nbconvert_exporter": "python",
   "pygments_lexer": "ipython3",
   "version": "3.7.16"
  },
  "orig_nbformat": 4,
  "vscode": {
   "interpreter": {
    "hash": "fd69f43f58546b570e94fd7eba7b65e6bcc7a5bbc4eab0408017d18902915d69"
   }
  }
 },
 "nbformat": 4,
 "nbformat_minor": 2
}
