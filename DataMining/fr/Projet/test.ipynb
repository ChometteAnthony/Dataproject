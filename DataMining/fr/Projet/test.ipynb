{
 "cells": [
  {
   "cell_type": "code",
   "execution_count": null,
   "metadata": {},
   "outputs": [],
   "source": [
    "import os\n",
    "import json\n",
    "import unittest\n",
    "from PIL import Image\n",
    "\n",
    "\n",
    "class TestMetadataExtractor(unittest.TestCase):\n",
    "\n",
    "    def setUp(self):\n",
    "        if not os.path.exists(\"input_images\"):\n",
    "            os.mkdir(\"input_images\")\n",
    "        self.image_files = ['image1.jpg', 'image2.png', 'image3.jpeg']\n",
    "        for file in self.image_files:\n",
    "            with open(f'input_images/{file}', 'w') as f:\n",
    "                f.write('dummy image data')\n",
    "\n",
    "    def test_metadata_extraction(self):\n",
    "        for file in self.image_files:\n",
    "            # Open the image with PIL and get its metadata\n",
    "            im = vv Image.open(f'input_images/{file}')\n",
    "            metadata = {\n",
    "                'size': im.size,\n",
    "                'format': im.format,\n",
    "                'orientation': im.mode,\n",
    "                'date_creation': '2023-04-04',\n",
    "                'model_appareil': 'Canon EOS 5D Mark IV'\n",
    "            }\n",
    "\n",
    "            # Save the metadata in a JSON file\n",
    "            with open(f'metadata_{file}.json', 'w') as f:\n",
    "                json.dump([metadata], f)\n",
    "\n",
    "            # Save the image in the \"input_images\" directory\n",
    "            im.save(f'input_images/{file}')\n",
    "\n",
    "            # Check if the metadata file was created and contains the correct data\n",
    "            self.assertTrue(os.path.exists(f'metadata_{file}.json'))\n",
    "            with open(f'metadata_{file}.json', 'r') as f:\n",
    "                metadata_from_file = json.load(f)[0]\n",
    "                self.assertDictEqual(metadata, metadata_from_file)\n",
    "\n",
    "            # Check if the image was saved in the \"input_images\" directory\n",
    "            self.assertTrue(os.path.exists(f'input_images/{file}'))\n",
    "\n",
    "\n",
    "if __name__ == '__main__':\n",
    "    unittest.main()"
   ]
  }
 ],
 "metadata": {
  "kernelspec": {
   "display_name": "Python 3.7.16 64-bit",
   "language": "python",
   "name": "python3"
  },
  "language_info": {
   "name": "python",
   "version": "3.7.16"
  },
  "orig_nbformat": 4,
  "vscode": {
   "interpreter": {
    "hash": "fd69f43f58546b570e94fd7eba7b65e6bcc7a5bbc4eab0408017d18902915d69"
   }
  }
 },
 "nbformat": 4,
 "nbformat_minor": 2
}
